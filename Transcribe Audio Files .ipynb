{
 "cells": [
  {
   "cell_type": "code",
   "execution_count": 20,
   "id": "b078f00d-0406-406e-8cd2-81e2d54b43ed",
   "metadata": {},
   "outputs": [
    {
     "name": "stdout",
     "output_type": "stream",
     "text": [
      "Requirement already satisfied: openai-whisper in /opt/anaconda3/lib/python3.13/site-packages (20250625)\n",
      "Requirement already satisfied: more-itertools in /opt/anaconda3/lib/python3.13/site-packages (from openai-whisper) (10.3.0)\n",
      "Requirement already satisfied: numba in /opt/anaconda3/lib/python3.13/site-packages (from openai-whisper) (0.61.0)\n",
      "Requirement already satisfied: numpy in /opt/anaconda3/lib/python3.13/site-packages (from openai-whisper) (2.1.3)\n",
      "Requirement already satisfied: tiktoken in /opt/anaconda3/lib/python3.13/site-packages (from openai-whisper) (0.11.0)\n",
      "Requirement already satisfied: torch in /opt/anaconda3/lib/python3.13/site-packages (from openai-whisper) (2.8.0)\n",
      "Requirement already satisfied: tqdm in /opt/anaconda3/lib/python3.13/site-packages (from openai-whisper) (4.67.1)\n",
      "Requirement already satisfied: llvmlite<0.45,>=0.44.0dev0 in /opt/anaconda3/lib/python3.13/site-packages (from numba->openai-whisper) (0.44.0)\n",
      "Requirement already satisfied: regex>=2022.1.18 in /opt/anaconda3/lib/python3.13/site-packages (from tiktoken->openai-whisper) (2024.11.6)\n",
      "Requirement already satisfied: requests>=2.26.0 in /opt/anaconda3/lib/python3.13/site-packages (from tiktoken->openai-whisper) (2.32.3)\n",
      "Requirement already satisfied: charset-normalizer<4,>=2 in /opt/anaconda3/lib/python3.13/site-packages (from requests>=2.26.0->tiktoken->openai-whisper) (3.3.2)\n",
      "Requirement already satisfied: idna<4,>=2.5 in /opt/anaconda3/lib/python3.13/site-packages (from requests>=2.26.0->tiktoken->openai-whisper) (3.7)\n",
      "Requirement already satisfied: urllib3<3,>=1.21.1 in /opt/anaconda3/lib/python3.13/site-packages (from requests>=2.26.0->tiktoken->openai-whisper) (2.3.0)\n",
      "Requirement already satisfied: certifi>=2017.4.17 in /opt/anaconda3/lib/python3.13/site-packages (from requests>=2.26.0->tiktoken->openai-whisper) (2025.8.3)\n",
      "Requirement already satisfied: filelock in /opt/anaconda3/lib/python3.13/site-packages (from torch->openai-whisper) (3.17.0)\n",
      "Requirement already satisfied: typing-extensions>=4.10.0 in /opt/anaconda3/lib/python3.13/site-packages (from torch->openai-whisper) (4.12.2)\n",
      "Requirement already satisfied: setuptools in /opt/anaconda3/lib/python3.13/site-packages (from torch->openai-whisper) (72.1.0)\n",
      "Requirement already satisfied: sympy>=1.13.3 in /opt/anaconda3/lib/python3.13/site-packages (from torch->openai-whisper) (1.13.3)\n",
      "Requirement already satisfied: networkx in /opt/anaconda3/lib/python3.13/site-packages (from torch->openai-whisper) (3.4.2)\n",
      "Requirement already satisfied: jinja2 in /opt/anaconda3/lib/python3.13/site-packages (from torch->openai-whisper) (3.1.6)\n",
      "Requirement already satisfied: fsspec in /opt/anaconda3/lib/python3.13/site-packages (from torch->openai-whisper) (2025.3.2)\n",
      "Requirement already satisfied: mpmath<1.4,>=1.1.0 in /opt/anaconda3/lib/python3.13/site-packages (from sympy>=1.13.3->torch->openai-whisper) (1.3.0)\n",
      "Requirement already satisfied: MarkupSafe>=2.0 in /opt/anaconda3/lib/python3.13/site-packages (from jinja2->torch->openai-whisper) (3.0.2)\n",
      "Note: you may need to restart the kernel to use updated packages.\n"
     ]
    }
   ],
   "source": [
    "%pip install openai-whisper\n"
   ]
  },
  {
   "cell_type": "code",
   "execution_count": 21,
   "id": "37914f07-90bc-4554-bb72-45dd8c073561",
   "metadata": {},
   "outputs": [],
   "source": [
    "import whisper\n"
   ]
  },
  {
   "cell_type": "code",
   "execution_count": 22,
   "id": "21808047-88f4-4dd8-abb9-7fcbe1b24c76",
   "metadata": {},
   "outputs": [],
   "source": [
    "model=whisper.load_model(\"base\")\n"
   ]
  },
  {
   "cell_type": "code",
   "execution_count": 23,
   "id": "a173402e-2378-4a5e-a8f4-e2d3097642d6",
   "metadata": {},
   "outputs": [
    {
     "name": "stdout",
     "output_type": "stream",
     "text": [
      "['.zshrc.save', '.config', 'Music', '.cursor', 'rzp key.numbers', '.zprofile.pysave', '.codegpt', '.condarc', '.docker', 'Attention-(Mr-Jat.in).mp3', '.gemini', '.trae', '.windsurf', '.codeium', '.flet', 'china test', 'index.html', '.DS_Store', '.CFUserTextEncoding', '.xonshrc', 'python', '.bash_profile.save', 'anaconda_projects', 'harvard.wav', '.zshrc', '.streamlit', '.local', 'UnsecuredAPIKeys-OpenSource', 'Pictures', '.zprofile', 'node_modules', 'rzp new.numbers', 'Transcribe Audio Files .ipynb', '.zsh_history', '.ipython', 'Desktop', 'Library', '.matplotlib', '.trae-aicc', '.lesshst', 'transcription_song.txt', 'supabase', 'PycharmProjects', 'Public', 'rzp.numbers', 'package-lock.json', 'package.json', 'Ghane Gande - PagalNew.mp3', '.idlerc', '.tcshrc', '.anaconda', 'new', '.ssh', 'Movies', 'Applications', 'Restart.ipynb', '.Trash', '.ipynb_checkpoints', '.kiro', '.jupyter', '.keras', '.npm', 'Documents', '.anydesk', '.mono', '.vscode', 'transcription.txt', '.bash_profile', 'Downloads', '.python_history', '.continuum', '.cache', '.gitconfig', 'machine learning projects', '.ollama', 'LTX-Video', '.viminfo', '.zsh_sessions', '.conda']\n"
     ]
    }
   ],
   "source": [
    "import os\n",
    "print(os.listdir())"
   ]
  },
  {
   "cell_type": "code",
   "execution_count": 24,
   "id": "417618ff-c780-419d-882c-7f4c218f38cc",
   "metadata": {},
   "outputs": [
    {
     "name": "stderr",
     "output_type": "stream",
     "text": [
      "/opt/anaconda3/lib/python3.13/site-packages/whisper/transcribe.py:132: UserWarning: FP16 is not supported on CPU; using FP32 instead\n",
      "  warnings.warn(\"FP16 is not supported on CPU; using FP32 instead\")\n"
     ]
    }
   ],
   "source": [
    "result=model.transcribe(\"harvard.wav\")\n"
   ]
  },
  {
   "cell_type": "code",
   "execution_count": 25,
   "id": "16aeaf09-a616-489c-a031-93262fd093de",
   "metadata": {},
   "outputs": [],
   "source": [
    "with open(\"transcription.txt\",\"w\") as f:\n",
    "    f.write(result[\"text\"])"
   ]
  },
  {
   "cell_type": "code",
   "execution_count": 26,
   "id": "446a4328-614c-4253-bb4e-22aa3b73dc39",
   "metadata": {},
   "outputs": [
    {
     "name": "stderr",
     "output_type": "stream",
     "text": [
      "/opt/anaconda3/lib/python3.13/site-packages/whisper/transcribe.py:132: UserWarning: FP16 is not supported on CPU; using FP32 instead\n",
      "  warnings.warn(\"FP16 is not supported on CPU; using FP32 instead\")\n"
     ]
    }
   ],
   "source": [
    "result2=model.transcribe('Attention-(Mr-Jat.in).mp3')\n"
   ]
  },
  {
   "cell_type": "code",
   "execution_count": 31,
   "id": "1eb4020a-a363-474a-98dc-5435917435c2",
   "metadata": {},
   "outputs": [],
   "source": [
    "with open(\"transcription_song.txt\",\"w\") as p:\n",
    "    p.write(result2[\"text\"])"
   ]
  },
  {
   "cell_type": "code",
   "execution_count": 32,
   "id": "e24e26de-1965-4c2b-b89c-6e632de7d09b",
   "metadata": {},
   "outputs": [
    {
     "name": "stderr",
     "output_type": "stream",
     "text": [
      "/opt/anaconda3/lib/python3.13/site-packages/whisper/transcribe.py:132: UserWarning: FP16 is not supported on CPU; using FP32 instead\n",
      "  warnings.warn(\"FP16 is not supported on CPU; using FP32 instead\")\n"
     ]
    }
   ],
   "source": [
    "result3=model.transcribe('Ghane Gande - PagalNew.mp3')\n"
   ]
  },
  {
   "cell_type": "code",
   "execution_count": 33,
   "id": "f213e323-45da-4563-878a-7eb08c35c4b5",
   "metadata": {},
   "outputs": [],
   "source": [
    "with open(\"transcriptions_har_.txt\",\"w\") as u:\n",
    "    u.write(result3[\"text\"])"
   ]
  },
  {
   "cell_type": "code",
   "execution_count": null,
   "id": "e9ccaef2-bb6a-4cc6-99af-ea7740627e00",
   "metadata": {},
   "outputs": [],
   "source": []
  }
 ],
 "metadata": {
  "kernelspec": {
   "display_name": "Python [conda env:anaconda3] *",
   "language": "python",
   "name": "conda-env-anaconda3-py"
  },
  "language_info": {
   "codemirror_mode": {
    "name": "ipython",
    "version": 3
   },
   "file_extension": ".py",
   "mimetype": "text/x-python",
   "name": "python",
   "nbconvert_exporter": "python",
   "pygments_lexer": "ipython3",
   "version": "3.13.5"
  }
 },
 "nbformat": 4,
 "nbformat_minor": 5
}
